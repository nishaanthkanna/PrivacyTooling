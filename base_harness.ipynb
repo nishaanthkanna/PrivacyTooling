{
 "cells": [
  {
   "cell_type": "markdown",
   "metadata": {
    "id": "jspujjPMICuG"
   },
   "source": [
    "# Reproducting Experiments from Figure 1 of 'Randomness in neural network training: Characterizing the impact of tooling'\n",
    "\n",
    "**Dataset**: CIFAR10"
   ]
  },
  {
   "cell_type": "code",
   "execution_count": null,
   "metadata": {
    "id": "Fv95k17ZyK0_"
   },
   "outputs": [],
   "source": [
    "#!pip install -q mle-logging\n",
    "#!pip install pyhessian"
   ]
  },
  {
   "cell_type": "markdown",
   "metadata": {
    "id": "VzC1QXWFIXgn"
   },
   "source": [
    "### Imports"
   ]
  },
  {
   "cell_type": "code",
   "execution_count": 1,
   "metadata": {
    "colab": {
     "base_uri": "https://localhost:8080/"
    },
    "id": "SCkty4uwDhdz",
    "outputId": "0fc0c909-c3bf-43ee-e0c6-90bd7b95e9fb"
   },
   "outputs": [],
   "source": [
    "%load_ext autoreload\n",
    "%autoreload 2\n",
    "%config InlineBackend.figure_format = 'retina'\n",
    "\n",
    "## Standard Python\n",
    "import os\n",
    "import random\n",
    "\n",
    "## Python additional\n",
    "import numpy as np\n",
    "import matplotlib.pyplot as plt\n",
    "\n",
    "from mle_logging import MLELogger\n",
    "from pyhessian import hessian\n",
    "\n",
    "## PyTorch Imports\n",
    "\n",
    "# PT\n",
    "import torch\n",
    "import torch.nn as nn\n",
    "import torch.nn.functional as F\n",
    "from torch.utils.data import DataLoader\n",
    "from torch.optim import lr_scheduler, Adam\n",
    "# Torchvision\n",
    "from torchvision.datasets import CIFAR10\n",
    "from torchvision import transforms\n"
   ]
  },
  {
   "cell_type": "markdown",
   "metadata": {
    "id": "oRVRHWbQIcj_"
   },
   "source": [
    "### Random state initialization and Determinism\n",
    "\n",
    "Adapted from this [this blog](https://wandb.ai/sauravmaheshkar/RSNA-MICCAI/reports/How-to-Set-Random-Seeds-in-PyTorch-and-Tensorflow--VmlldzoxMDA2MDQy) by Saurav Maheshkar"
   ]
  },
  {
   "cell_type": "code",
   "execution_count": 2,
   "metadata": {
    "id": "oYvM4LaDIBBi"
   },
   "outputs": [],
   "source": [
    "def set_seed(seed: int = 42, deterministic = False) -> None:\n",
    "    np.random.seed(seed)\n",
    "    random.seed(seed)\n",
    "    torch.manual_seed(seed)\n",
    "    torch.cuda.manual_seed(seed)\n",
    "    # When running on the CuDNN backend, two further options must be set\n",
    "    \n",
    "    if deterministic:\n",
    "      torch.backends.cudnn.deterministic = True\n",
    "      torch.backends.cudnn.benchmark = False\n",
    "      #torch.use_deterministic_algorithms(True)\n",
    "    # Set a fixed value for the hash seed\n",
    "    os.environ[\"PYTHONHASHSEED\"] = str(seed)\n",
    "    print(f\"Random seed set as {seed}\")"
   ]
  },
  {
   "cell_type": "code",
   "execution_count": null,
   "metadata": {},
   "outputs": [],
   "source": [
    "experiment_seed = 1234"
   ]
  },
  {
   "cell_type": "code",
   "execution_count": 3,
   "metadata": {
    "colab": {
     "base_uri": "https://localhost:8080/"
    },
    "id": "L0fH6b5sLxBN",
    "outputId": "679f8827-df71-4c49-d5f7-4bd248a53cc5"
   },
   "outputs": [
    {
     "name": "stdout",
     "output_type": "stream",
     "text": [
      "Random seed set as 1234\n"
     ]
    }
   ],
   "source": [
    "set_seed(seed          = experiment_seed,\n",
    "         deterministic = True)"
   ]
  },
  {
   "cell_type": "markdown",
   "metadata": {
    "id": "iWkYqQ41I-KK"
   },
   "source": [
    "### Dataset download/initialization"
   ]
  },
  {
   "cell_type": "code",
   "execution_count": 4,
   "metadata": {
    "colab": {
     "base_uri": "https://localhost:8080/"
    },
    "id": "sBrG2_WvI8Cy",
    "outputId": "2cdfd54d-0104-4529-95b9-896a57b7faaa"
   },
   "outputs": [
    {
     "name": "stdout",
     "output_type": "stream",
     "text": [
      "Files already downloaded and verified\n",
      "Files already downloaded and verified\n"
     ]
    }
   ],
   "source": [
    "\"\"\"classes = ('plane', 'car', 'bird', 'cat', 'deer',\n",
    "           'dog', 'frog', 'horse', 'ship', 'truck')\"\"\"\n",
    "\n",
    "train_transform = transforms.Compose([\n",
    "    transforms.ToTensor(),\n",
    "    transforms.Normalize((0.4914, 0.4822, 0.4465), (0.2023, 0.1994, 0.2010)),\n",
    "])\n",
    "\n",
    "test_transform = transforms.Compose([\n",
    "    transforms.ToTensor(),\n",
    "    transforms.Normalize((0.4914, 0.4822, 0.4465), (0.2023, 0.1994, 0.2010)),\n",
    "])\n",
    "\n",
    "training_dataset = CIFAR10(root='./data', train=True, download=True, transform=train_transform)\n",
    "\n",
    "test_dataset = CIFAR10(root='./data', train=False, download=True, transform=test_transform)"
   ]
  },
  {
   "cell_type": "markdown",
   "metadata": {
    "id": "Srm34f10MJS1"
   },
   "source": [
    "\n",
    "1. L2 Norm - To Add\n",
    "2. Churn - To Add\n",
    "3. STDDEV Accuracy - To add\n",
    "7. FP16 - To add\n"
   ]
  },
  {
   "cell_type": "code",
   "execution_count": 6,
   "metadata": {
    "id": "_190m-WFKntG"
   },
   "outputs": [],
   "source": [
    "class SimpleCNN(nn.Module):\n",
    "  def __init__(self, use_bn = False):\n",
    "    super(SimpleCNN, self).__init__()\n",
    "\n",
    "    self.use_bn = use_bn\n",
    "\n",
    "    # Conv Layers\n",
    "    self.cnn_layer1 = nn.Conv2d(3,  16, kernel_size=3, padding=1)\n",
    "    self.cnn_layer2 = nn.Conv2d(16, 32, kernel_size=3, padding=1)\n",
    "    self.cnn_layer3 = nn.Conv2d(32, 32, kernel_size=3, padding=1)\n",
    "\n",
    "    # Batch Norm\n",
    "    if self.use_bn:\n",
    "        self.bn1 = nn.BatchNorm2d(16)\n",
    "        self.bn2 = nn.BatchNorm2d(32)\n",
    "        self.bn3 = nn.BatchNorm2d(32)\n",
    "\n",
    "    # Pooling\n",
    "    self.max_pool = nn.MaxPool2d(2, stride=2)\n",
    "    self.global_avg_pool = nn.AdaptiveAvgPool2d((1, 1))\n",
    "\n",
    "    # Linear layers\n",
    "    self.linear_layer1 = nn.Linear(32, 32)\n",
    "    self.linear_layer2 = nn.Linear(32, 10)\n",
    "\n",
    "  def forward(self, x):\n",
    "\n",
    "    x = self.cnn_layer1(x)\n",
    "    if self.use_bn:\n",
    "      x = self.bn1(x)\n",
    "    x = self.max_pool(F.relu(x))\n",
    "    \n",
    "    x = self.cnn_layer2(x)\n",
    "    if self.use_bn:\n",
    "      x = self.bn2(x)\n",
    "    x = self.max_pool(F.relu(x))\n",
    "\n",
    "    x = self.cnn_layer3(x)\n",
    "    if self.use_bn:\n",
    "      x = self.bn3(x)\n",
    "    x = self.max_pool(F.relu(x))\n",
    "    \n",
    "    x = self.global_avg_pool(x)\n",
    "    \n",
    "    x = x.view(-1, 32)\n",
    "    x = F.relu(self.linear_layer1(x))\n",
    "    x = self.linear_layer2(x)\n",
    "    return x    "
   ]
  },
  {
   "cell_type": "code",
   "execution_count": 44,
   "metadata": {
    "id": "cmcYYYrLzA2f"
   },
   "outputs": [],
   "source": [
    "class TrainingHarness:\n",
    "      def __init__(self, train_params):\n",
    "        self.train_params = train_params\n",
    "        \n",
    "        self.train_dl = DataLoader(training_dataset, batch_size = train_params['batch_size'], shuffle=True, num_workers=2)\n",
    "        self.test_dl  = DataLoader(test_dataset, batch_size = train_params['batch_size'], shuffle=False, num_workers=2)\n",
    "        self.protected_classes = self.train_params['protected_classes']\n",
    "        \n",
    "        self.device = torch.device('cuda' if torch.cuda.is_available() else 'cpu')\n",
    "\n",
    "        self.net = SimpleCNN(use_bn=self.train_params['bn'])\n",
    "        self.optimizer = torch.optim.Adam(self.net.parameters(), lr=4e-4)\n",
    "        self.scheduler = lr_scheduler.MultiStepLR(self.optimizer, milestones=[50, 100], gamma=0.1)\n",
    "        self.criterion = nn.CrossEntropyLoss()\n",
    "        \n",
    "        self.net.to(self.device)\n",
    "\n",
    "      def train_one_epoch(self):\n",
    "        self.net.train()\n",
    "        train_loss = 0.0\n",
    "        train_correct = 0\n",
    "        total = 0\n",
    "        for data in tqdm.tqdm(self.train_dl):\n",
    "            ims, labels = data\n",
    "            ims, labels = ims.to(self.device), labels.to(self.device)\n",
    "\n",
    "            self.optimizer.zero_grad()\n",
    "\n",
    "            outputs = self.net(ims)\n",
    "            loss = self.criterion(outputs, labels)\n",
    "            loss.backward()\n",
    "            self.optimizer.step()\n",
    "\n",
    "            train_loss += loss.item()\n",
    "            _, pred = torch.max(outputs, 1) \n",
    "            train_correct += pred.eq(labels).sum().item()\n",
    "            total += labels.size(0)\n",
    "\n",
    "        train_loss /= len(self.train_dl)\n",
    "        train_acc = (train_correct / total) * 100\n",
    "        self.scheduler.step()\n",
    "        return train_loss, train_acc\n",
    "\n",
    "      def test_model(self):\n",
    "        self.net.eval()\n",
    "        test_loss = 0.0\n",
    "        test_correct = 0\n",
    "        test_total = 0\n",
    "        with torch.no_grad():\n",
    "              predictions = []\n",
    "              for data in self.test_dl:\n",
    "                ims, labels = data\n",
    "                ims, labels = ims.to(self.device), labels.to(self.device)\n",
    "                outputs = self.net(ims)\n",
    "                loss = self.criterion(outputs, labels)\n",
    "\n",
    "                _, pred = torch.max(outputs, 1)\n",
    "                predictions.extend(list(pred.cpu().numpy()))\n",
    "                \n",
    "                test_loss += loss.item()\n",
    "                test_correct += pred.eq(labels).sum().item()\n",
    "                test_total += labels.size(0)\n",
    "        \n",
    "        test_loss /= len(self.test_dl)\n",
    "        test_accuracy = (test_correct / test_total) * 100\n",
    "        return test_loss, test_accuracy, predictions\n",
    "\n",
    "      def log_norm(self):\n",
    "        grad_norm_dict = {0 : [], 1 : [], 2 : [], 3 : [], 4 : [], 5 : [], 6 : [], 7 : [], 8 : [], 9 : []}\n",
    "        for data in self.test_dl:\n",
    "            ims, labels = data\n",
    "            ims, labels = ims.to(self.device), labels.to(self.device)\n",
    "            outputs = self.net(ims)\n",
    "            for i in self.protected_classes: # protected classes\n",
    "                if len(labels[labels == i]) > 0:\n",
    "                    self.net.zero_grad()\n",
    "                    group_loss = self.criterion(outputs[labels == i], labels[labels == i])\n",
    "                    group_loss.backward(retain_graph=True)\n",
    "                    sub_norm = torch.norm(torch.stack([torch.norm(w.grad) for w in self.net.parameters() if w.grad is not None])).item()\n",
    "                    grad_norm_dict[i].append(sub_norm)\n",
    "\n",
    "        return grad_norm_dict\n",
    "\n",
    "      def log_hessian_norm(self):\n",
    "        hessian_norm_dict = {}\n",
    "        for data in self.test_dl:\n",
    "            ims, labels = data\n",
    "            ims, labels = ims.to(self.device), labels.to(self.device)\n",
    "            for i in self.protected_classes:\n",
    "                if len(labels[labels == i]) > 0:\n",
    "                    sub_hessian_comp = hessian(self.net, self.criterion, data=(ims[labels == i], labels[labels == i]), cuda=True)\n",
    "                    sub_trace = np.mean(sub_hessian_comp.trace())\n",
    "                    hessian_norm_dict[f'trace_hessian_{i}'] = sub_trace\n",
    "\n",
    "        return hessian_norm_dict"
   ]
  },
  {
   "cell_type": "code",
   "execution_count": 47,
   "metadata": {
    "id": "1524YEBEtohV"
   },
   "outputs": [],
   "source": [
    "def train_experiment(train_params, i):\n",
    "    log = MLELogger(time_to_track=['num_updates', 'num_epochs'],\n",
    "                  what_to_track=['train_loss', 'train_accuracy', 'test_accuracy', 'test_loss', 'lr'],\n",
    "                  experiment_dir=f\"test_all_stuff_{i}/\",\n",
    "                  use_tboard=False,\n",
    "                  model_type='torch',\n",
    "                  print_every_k_updates=1,\n",
    "                  ckpt_time_to_track='num_epochs',\n",
    "                  save_every_k_ckpt=1,\n",
    "                  verbose=True,\n",
    "                  seed_id=experiment_seed)\n",
    "        \n",
    "    training_run = TrainingHarness(train_params) \n",
    "\n",
    "    for epoch in range(train_params['epochs']):\n",
    "        train_loss, train_acc = training_run.train_one_epoch()\n",
    "        test_loss, test_acc, predictions = training_run.test_model()\n",
    "        model_params = [p for p in training_run.net.parameters() if p.grad is not None and p.requires_grad]\n",
    "        grad_norms, hessian_norms = training_run.log_norm(), training_run.log_hessian_norm()\n",
    "        \n",
    "        log.save_extra(predictions, f'predictions_epoch_{epoch}.pkl')\n",
    "        log.save_extra(model_params, f'model_params_epoch_{epoch}.pkl') \n",
    "        log.save_extra(grad_norms, f'grad_norms_epoch_{epoch}.pkl')\n",
    "        log.save_extra(hessian_norms, f'hessian_norms_epoch_{epoch}.pkl')\n",
    "        log.update({'num_updates' : epoch+1, 'num_epochs' : epoch+1},\n",
    "                   {'train_loss' : train_loss, 'train_accuracy' : train_acc,\n",
    "                    'test_loss' : test_loss,  'test_accuracy' : test_acc,\n",
    "                    'lr' : training_run.scheduler.get_last_lr()[0]}, training_run.net, save=True)\n"
   ]
  },
  {
   "cell_type": "code",
   "execution_count": 48,
   "metadata": {
    "colab": {
     "base_uri": "https://localhost:8080/",
     "height": 744
    },
    "id": "2BS7brd_-QJx",
    "outputId": "de61fe23-531a-42f7-dd3f-cd1a2c4b58b9"
   },
   "outputs": [
    {
     "data": {
      "text/html": [
       "<pre style=\"white-space:pre;overflow-x:auto;line-height:normal;font-family:Menlo,'DejaVu Sans Mono',consolas,'Courier New',monospace\"><span style=\"color: #c0c0c0; text-decoration-color: #c0c0c0; background-color: #000080\">╭──────────────────────────────────────────────────────────────────────────────╮</span>\n",
       "<span style=\"color: #c0c0c0; text-decoration-color: #c0c0c0; background-color: #000080\">│  __    __  __      ______  __      ______  ______          15/11/22 03:09:24 │</span>\n",
       "<span style=\"color: #c0c0c0; text-decoration-color: #c0c0c0; background-color: #000080\">│ /\\ \"-./  \\/\\ \\    /\\  ___\\/\\ \\    /\\  __ \\/\\  ___\\          Logger v0.0.4 🔏 │</span>\n",
       "<span style=\"color: #c0c0c0; text-decoration-color: #c0c0c0; background-color: #000080\">│ \\ \\ \\-./\\ \\ \\ \\___\\ \\  __\\  \\ \\___\\ \\ \\/\\ \\ \\ \\__ \\         </span><a href=\"https://twitter.com/RobertTLange\" target=\"_blank\"><span style=\"color: #c0c0c0; text-decoration-color: #c0c0c0; background-color: #000080\">@RobertTLange</span></a><span style=\"color: #c0c0c0; text-decoration-color: #c0c0c0; background-color: #000080\"> 🐦 │</span>\n",
       "<span style=\"color: #c0c0c0; text-decoration-color: #c0c0c0; background-color: #000080\">│  \\ \\_\\ \\ \\_\\ \\_____\\ \\_____\\ \\_____\\ \\_____\\ \\_____\\         </span><a href=\"https://github.com/RobertTLange/mle-logging/blob/main/examples/getting_started.ipynb\" target=\"_blank\"><span style=\"color: #c0c0c0; text-decoration-color: #c0c0c0; background-color: #000080\">MLE-Log Docs</span></a><span style=\"color: #c0c0c0; text-decoration-color: #c0c0c0; background-color: #000080\"> </span><span style=\"color: #c0c0c0; text-decoration-color: #c0c0c0; background-color: #000080\">📓</span><span style=\"color: #c0c0c0; text-decoration-color: #c0c0c0; background-color: #000080\"> │</span>\n",
       "<span style=\"color: #c0c0c0; text-decoration-color: #c0c0c0; background-color: #000080\">│   \\/_/  \\/_/\\/_____/\\/_____/\\/_____/\\/_____/\\/_____/         </span><a href=\"https://github.com/RobertTLange/mle-logging/\" target=\"_blank\"><span style=\"color: #c0c0c0; text-decoration-color: #c0c0c0; background-color: #000080\">MLE-Log Repo</span></a><span style=\"color: #c0c0c0; text-decoration-color: #c0c0c0; background-color: #000080\"> </span><span style=\"color: #c0c0c0; text-decoration-color: #c0c0c0; background-color: #000080\">📝</span><span style=\"color: #c0c0c0; text-decoration-color: #c0c0c0; background-color: #000080\"> │</span>\n",
       "<span style=\"color: #c0c0c0; text-decoration-color: #c0c0c0; background-color: #000080\">╰──────────────────────────────────────────────────────────────────────────────╯</span>\n",
       "</pre>\n"
      ],
      "text/plain": [
       "\u001b[37;44m╭──────────────────────────────────────────────────────────────────────────────╮\u001b[0m\n",
       "\u001b[37;44m│\u001b[0m\u001b[37;44m \u001b[0m\u001b[37;44m __    __  __      ______  __      ______  ______        \u001b[0m\u001b[37;44m  15/11/22 03:09:24\u001b[0m\u001b[37;44m \u001b[0m\u001b[37;44m│\u001b[0m\n",
       "\u001b[37;44m│\u001b[0m\u001b[37;44m \u001b[0m\u001b[37;44m/\\ \"-./  \\/\\ \\    /\\  ___\\/\\ \\    /\\  __ \\/\\  ___\\       \u001b[0m\u001b[37;44m   Logger v0.0.4 🔏\u001b[0m\u001b[37;44m \u001b[0m\u001b[37;44m│\u001b[0m\n",
       "\u001b[37;44m│\u001b[0m\u001b[37;44m \u001b[0m\u001b[37;44m\\ \\ \\-./\\ \\ \\ \\___\\ \\  __\\  \\ \\___\\ \\ \\/\\ \\ \\ \\__ \\      \u001b[0m\u001b[37;44m   \u001b[0m\u001b]8;id=47531;https://twitter.com/RobertTLange\u001b\\\u001b[37;44m@RobertTLange\u001b[0m\u001b]8;;\u001b\\\u001b[37;44m 🐦\u001b[0m\u001b[37;44m \u001b[0m\u001b[37;44m│\u001b[0m\n",
       "\u001b[37;44m│\u001b[0m\u001b[37;44m \u001b[0m\u001b[37;44m \\ \\_\\ \\ \\_\\ \\_____\\ \\_____\\ \\_____\\ \\_____\\ \\_____\\     \u001b[0m\u001b[37;44m    \u001b[0m\u001b]8;id=820919;https://github.com/RobertTLange/mle-logging/blob/main/examples/getting_started.ipynb\u001b\\\u001b[37;44mMLE-Log Docs\u001b[0m\u001b]8;;\u001b\\\u001b[37;44m \u001b[0m\u001b[37;44m📓\u001b[0m\u001b[37;44m \u001b[0m\u001b[37;44m│\u001b[0m\n",
       "\u001b[37;44m│\u001b[0m\u001b[37;44m \u001b[0m\u001b[37;44m  \\/_/  \\/_/\\/_____/\\/_____/\\/_____/\\/_____/\\/_____/     \u001b[0m\u001b[37;44m    \u001b[0m\u001b]8;id=978278;https://github.com/RobertTLange/mle-logging/\u001b\\\u001b[37;44mMLE-Log Repo\u001b[0m\u001b]8;;\u001b\\\u001b[37;44m \u001b[0m\u001b[37;44m📝\u001b[0m\u001b[37;44m \u001b[0m\u001b[37;44m│\u001b[0m\n",
       "\u001b[37;44m╰──────────────────────────────────────────────────────────────────────────────╯\u001b[0m\n"
      ]
     },
     "metadata": {},
     "output_type": "display_data"
    },
    {
     "data": {
      "text/html": [
       "<pre style=\"white-space:pre;overflow-x:auto;line-height:normal;font-family:Menlo,'DejaVu Sans Mono',consolas,'Courier New',monospace\">╭──────────────────────────────────────────────────────────────────────────────╮\n",
       "│ ╭──────────────────────────────────╮╭──────────────────────────────────────╮ │\n",
       "│ │ <span style=\"font-weight: bold\">📖 Log Dir</span>: test_all_stuff/      ││ <span style=\"font-weight: bold\">📄 Config</span>: None                      │ │\n",
       "│ ╰──────────────────────────────────╯╰──────────────────────────────────────╯ │\n",
       "│ ╭──────────────────────────────────╮╭──────────────────────────────────────╮ │\n",
       "│ │ <span style=\"font-weight: bold\">⌚ Time</span>: num_updates, num_epochs ││ <span style=\"font-weight: bold\">📉 Stats</span>: train_loss,                │ │\n",
       "│ ╰──────────────────────────────────╯│ train_accuracy, test_accuracy,       │ │\n",
       "│                                     │ test_loss, lr                        │ │\n",
       "│                                     ╰──────────────────────────────────────╯ │\n",
       "│ ╭──────────────────────────────────╮╭──────────────────────────────────────╮ │\n",
       "│ │ <span style=\"font-weight: bold\">🌱 Seed ID</span>: 1234                 ││ <span style=\"font-weight: bold\">🚀 Model</span>: torch                      │ │\n",
       "│ ╰──────────────────────────────────╯╰──────────────────────────────────────╯ │\n",
       "│ ╭──────────────────────────────────╮                                         │\n",
       "│ │ <span style=\"font-weight: bold\">🕦 Every k-th ckpt</span>: 1            │                                         │\n",
       "│ ╰──────────────────────────────────╯                                         │\n",
       "╰──────────────────────────────────────────────────────────────────────────────╯\n",
       "</pre>\n"
      ],
      "text/plain": [
       "╭──────────────────────────────────────────────────────────────────────────────╮\n",
       "│ ╭──────────────────────────────────╮╭──────────────────────────────────────╮ │\n",
       "│ │ \u001b[1m📖 Log Dir\u001b[0m: test_all_stuff/      ││ \u001b[1m📄 Config\u001b[0m: None                      │ │\n",
       "│ ╰──────────────────────────────────╯╰──────────────────────────────────────╯ │\n",
       "│ ╭──────────────────────────────────╮╭──────────────────────────────────────╮ │\n",
       "│ │ \u001b[1m⌚ Time\u001b[0m: num_updates, num_epochs ││ \u001b[1m📉 Stats\u001b[0m: train_loss,                │ │\n",
       "│ ╰──────────────────────────────────╯│ train_accuracy, test_accuracy,       │ │\n",
       "│                                     │ test_loss, lr                        │ │\n",
       "│                                     ╰──────────────────────────────────────╯ │\n",
       "│ ╭──────────────────────────────────╮╭──────────────────────────────────────╮ │\n",
       "│ │ \u001b[1m🌱 Seed ID\u001b[0m: 1234                 ││ \u001b[1m🚀 Model\u001b[0m: torch                      │ │\n",
       "│ ╰──────────────────────────────────╯╰──────────────────────────────────────╯ │\n",
       "│ ╭──────────────────────────────────╮                                         │\n",
       "│ │ \u001b[1m🕦 Every k-th ckpt\u001b[0m: 1            │                                         │\n",
       "│ ╰──────────────────────────────────╯                                         │\n",
       "╰──────────────────────────────────────────────────────────────────────────────╯\n"
      ]
     },
     "metadata": {},
     "output_type": "display_data"
    },
    {
     "data": {
      "text/html": [
       "<pre style=\"white-space:pre;overflow-x:auto;line-height:normal;font-family:Menlo,'DejaVu Sans Mono',consolas,'Courier New',monospace\"><span style=\"color: #c0c0c0; text-decoration-color: #c0c0c0\">                                                                                </span>\n",
       "<span style=\"color: #c0c0c0; text-decoration-color: #c0c0c0\"> </span><span style=\"color: #800000; text-decoration-color: #800000\"> 📩 - Model   </span><span style=\"color: #c0c0c0; text-decoration-color: #c0c0c0\"> </span><span style=\"color: #800000; text-decoration-color: #800000\"> test_all_stuff/models/final/final_seed_1234.pt                </span><span style=\"color: #c0c0c0; text-decoration-color: #c0c0c0\"> </span>\n",
       "<span style=\"color: #c0c0c0; text-decoration-color: #c0c0c0\"> </span><span style=\"color: #800000; text-decoration-color: #800000\"> 📩 - Every-K </span><span style=\"color: #c0c0c0; text-decoration-color: #c0c0c0\"> </span><span style=\"color: #800000; text-decoration-color: #800000\"> test_all_stuff/models/every_k/every_k_seed_1234_k_1.pt        </span><span style=\"color: #c0c0c0; text-decoration-color: #c0c0c0\"> </span>\n",
       "<span style=\"color: #c0c0c0; text-decoration-color: #c0c0c0\">                                                                                </span>\n",
       "</pre>\n"
      ],
      "text/plain": [
       "\u001b[37m                                                                                \u001b[0m\n",
       "\u001b[37m \u001b[0m\u001b[31m \u001b[0m\u001b[31m📩 - Model  \u001b[0m\u001b[31m \u001b[0m\u001b[37m \u001b[0m\u001b[31m \u001b[0m\u001b[31mtest_all_stuff/models/final/final_seed_1234.pt               \u001b[0m\u001b[31m \u001b[0m\u001b[37m \u001b[0m\n",
       "\u001b[37m \u001b[0m\u001b[31m \u001b[0m\u001b[31m📩 - Every-K\u001b[0m\u001b[31m \u001b[0m\u001b[37m \u001b[0m\u001b[31m \u001b[0m\u001b[31mtest_all_stuff/models/every_k/every_k_seed_1234_k_1.pt       \u001b[0m\u001b[31m \u001b[0m\u001b[37m \u001b[0m\n",
       "\u001b[37m                                                                                \u001b[0m\n"
      ]
     },
     "metadata": {},
     "output_type": "display_data"
    },
    {
     "data": {
      "text/html": [
       "<pre style=\"white-space:pre;overflow-x:auto;line-height:normal;font-family:Menlo,'DejaVu Sans Mono',consolas,'Courier New',monospace\"><span style=\"color: #c0c0c0; text-decoration-color: #c0c0c0\">                                                                                </span>\n",
       "<span style=\"color: #c0c0c0; text-decoration-color: #c0c0c0\"> </span><span style=\"font-weight: bold\">          </span><span style=\"color: #c0c0c0; text-decoration-color: #c0c0c0\"> </span><span style=\"font-weight: bold\">        </span><span style=\"color: #c0c0c0; text-decoration-color: #c0c0c0\"> </span><span style=\"font-weight: bold\">        </span><span style=\"color: #c0c0c0; text-decoration-color: #c0c0c0\"> </span><span style=\"font-weight: bold\">    📉     </span><span style=\"color: #c0c0c0; text-decoration-color: #c0c0c0\"> </span><span style=\"font-weight: bold\">        </span><span style=\"color: #c0c0c0; text-decoration-color: #c0c0c0\"> </span><span style=\"font-weight: bold\">         </span><span style=\"color: #c0c0c0; text-decoration-color: #c0c0c0\"> </span><span style=\"font-weight: bold\">        </span><span style=\"color: #c0c0c0; text-decoration-color: #c0c0c0\"> </span><span style=\"font-weight: bold\">         </span><span style=\"color: #c0c0c0; text-decoration-color: #c0c0c0\"> </span>\n",
       "<span style=\"color: #c0c0c0; text-decoration-color: #c0c0c0\"> </span><span style=\"font-weight: bold\"> ⌚ </span><span style=\"color: #800000; text-decoration-color: #800000; font-weight: bold\">time</span><span style=\"font-weight: bold\">  </span><span style=\"color: #c0c0c0; text-decoration-color: #c0c0c0\"> </span><span style=\"font-weight: bold\"> </span><span style=\"color: #800000; text-decoration-color: #800000; font-weight: bold\">num_u…</span><span style=\"font-weight: bold\"> </span><span style=\"color: #c0c0c0; text-decoration-color: #c0c0c0\"> </span><span style=\"font-weight: bold\"> </span><span style=\"color: #800000; text-decoration-color: #800000; font-weight: bold\">num_e…</span><span style=\"font-weight: bold\"> </span><span style=\"color: #c0c0c0; text-decoration-color: #c0c0c0\"> </span><span style=\"font-weight: bold\"> </span><span style=\"color: #000080; text-decoration-color: #000080; font-weight: bold\">train_lo…</span><span style=\"font-weight: bold\"> </span><span style=\"color: #c0c0c0; text-decoration-color: #c0c0c0\"> </span><span style=\"font-weight: bold\"> </span><span style=\"color: #000080; text-decoration-color: #000080; font-weight: bold\">train…</span><span style=\"font-weight: bold\"> </span><span style=\"color: #c0c0c0; text-decoration-color: #c0c0c0\"> </span><span style=\"font-weight: bold\"> </span><span style=\"color: #000080; text-decoration-color: #000080; font-weight: bold\">test_a…</span><span style=\"font-weight: bold\"> </span><span style=\"color: #c0c0c0; text-decoration-color: #c0c0c0\"> </span><span style=\"font-weight: bold\"> </span><span style=\"color: #000080; text-decoration-color: #000080; font-weight: bold\">test_…</span><span style=\"font-weight: bold\"> </span><span style=\"color: #c0c0c0; text-decoration-color: #c0c0c0\"> </span><span style=\"font-weight: bold\">   </span><span style=\"color: #000080; text-decoration-color: #000080; font-weight: bold\">lr</span><span style=\"font-weight: bold\">    </span><span style=\"color: #c0c0c0; text-decoration-color: #c0c0c0\"> </span>\n",
       "<span style=\"color: #c0c0c0; text-decoration-color: #c0c0c0\"> ────────────────────────────────────────────────────────────────────────────── </span>\n",
       "<span style=\"color: #c0c0c0; text-decoration-color: #c0c0c0\"> </span><span style=\"color: #800000; text-decoration-color: #800000\"> 22-11-1… </span><span style=\"color: #c0c0c0; text-decoration-color: #c0c0c0\"> </span><span style=\"color: #800000; text-decoration-color: #800000\">   1    </span><span style=\"color: #c0c0c0; text-decoration-color: #c0c0c0\"> </span><span style=\"color: #800000; text-decoration-color: #800000\">   1    </span><span style=\"color: #c0c0c0; text-decoration-color: #c0c0c0\"> </span>   1.992   <span style=\"color: #c0c0c0; text-decoration-color: #c0c0c0\"> </span> 24.218 <span style=\"color: #c0c0c0; text-decoration-color: #c0c0c0\"> </span>  32.81  <span style=\"color: #c0c0c0; text-decoration-color: #c0c0c0\"> </span> 1.7978 <span style=\"color: #c0c0c0; text-decoration-color: #c0c0c0\"> </span> 0.0004  <span style=\"color: #c0c0c0; text-decoration-color: #c0c0c0\"> </span>\n",
       "<span style=\"color: #c0c0c0; text-decoration-color: #c0c0c0\">                                                                                </span>\n",
       "</pre>\n"
      ],
      "text/plain": [
       "\u001b[37m                                                                                \u001b[0m\n",
       "\u001b[37m \u001b[0m\u001b[1m          \u001b[0m\u001b[37m \u001b[0m\u001b[1m        \u001b[0m\u001b[37m \u001b[0m\u001b[1m        \u001b[0m\u001b[37m \u001b[0m\u001b[1m \u001b[0m\u001b[1m   📉    \u001b[0m\u001b[1m \u001b[0m\u001b[37m \u001b[0m\u001b[1m        \u001b[0m\u001b[37m \u001b[0m\u001b[1m         \u001b[0m\u001b[37m \u001b[0m\u001b[1m        \u001b[0m\u001b[37m \u001b[0m\u001b[1m         \u001b[0m\u001b[37m \u001b[0m\n",
       "\u001b[37m \u001b[0m\u001b[1m \u001b[0m\u001b[1m⌚ \u001b[0m\u001b[1;31mtime\u001b[0m\u001b[1m \u001b[0m\u001b[1m \u001b[0m\u001b[37m \u001b[0m\u001b[1m \u001b[0m\u001b[1;31mnum_u…\u001b[0m\u001b[1m \u001b[0m\u001b[37m \u001b[0m\u001b[1m \u001b[0m\u001b[1;31mnum_e…\u001b[0m\u001b[1m \u001b[0m\u001b[37m \u001b[0m\u001b[1m \u001b[0m\u001b[1;34mtrain_lo…\u001b[0m\u001b[1m \u001b[0m\u001b[37m \u001b[0m\u001b[1m \u001b[0m\u001b[1;34mtrain…\u001b[0m\u001b[1m \u001b[0m\u001b[37m \u001b[0m\u001b[1m \u001b[0m\u001b[1;34mtest_a…\u001b[0m\u001b[1m \u001b[0m\u001b[37m \u001b[0m\u001b[1m \u001b[0m\u001b[1;34mtest_…\u001b[0m\u001b[1m \u001b[0m\u001b[37m \u001b[0m\u001b[1m \u001b[0m\u001b[1m  \u001b[0m\u001b[1;34mlr\u001b[0m\u001b[1m   \u001b[0m\u001b[1m \u001b[0m\u001b[37m \u001b[0m\n",
       "\u001b[37m ────────────────────────────────────────────────────────────────────────────── \u001b[0m\n",
       "\u001b[37m \u001b[0m\u001b[31m \u001b[0m\u001b[31m22-11-1…\u001b[0m\u001b[31m \u001b[0m\u001b[37m \u001b[0m\u001b[31m \u001b[0m\u001b[31m  1   \u001b[0m\u001b[31m \u001b[0m\u001b[37m \u001b[0m\u001b[31m \u001b[0m\u001b[31m  1   \u001b[0m\u001b[31m \u001b[0m\u001b[37m \u001b[0m   1.992   \u001b[37m \u001b[0m 24.218 \u001b[37m \u001b[0m  32.81  \u001b[37m \u001b[0m 1.7978 \u001b[37m \u001b[0m 0.0004  \u001b[37m \u001b[0m\n",
       "\u001b[37m                                                                                \u001b[0m\n"
      ]
     },
     "metadata": {},
     "output_type": "display_data"
    },
    {
     "data": {
      "text/html": [
       "<pre style=\"white-space:pre;overflow-x:auto;line-height:normal;font-family:Menlo,'DejaVu Sans Mono',consolas,'Courier New',monospace\"><span style=\"color: #c0c0c0; text-decoration-color: #c0c0c0\">                                                                                </span>\n",
       "<span style=\"color: #c0c0c0; text-decoration-color: #c0c0c0\"> </span><span style=\"color: #800000; text-decoration-color: #800000\"> 📩 - Every-K </span><span style=\"color: #c0c0c0; text-decoration-color: #c0c0c0\"> </span><span style=\"color: #800000; text-decoration-color: #800000\"> test_all_stuff/models/every_k/every_k_seed_1234_k_2.pt        </span><span style=\"color: #c0c0c0; text-decoration-color: #c0c0c0\"> </span>\n",
       "<span style=\"color: #c0c0c0; text-decoration-color: #c0c0c0\">                                                                                </span>\n",
       "</pre>\n"
      ],
      "text/plain": [
       "\u001b[37m                                                                                \u001b[0m\n",
       "\u001b[37m \u001b[0m\u001b[31m \u001b[0m\u001b[31m📩 - Every-K\u001b[0m\u001b[31m \u001b[0m\u001b[37m \u001b[0m\u001b[31m \u001b[0m\u001b[31mtest_all_stuff/models/every_k/every_k_seed_1234_k_2.pt       \u001b[0m\u001b[31m \u001b[0m\u001b[37m \u001b[0m\n",
       "\u001b[37m                                                                                \u001b[0m\n"
      ]
     },
     "metadata": {},
     "output_type": "display_data"
    },
    {
     "data": {
      "text/html": [
       "<pre style=\"white-space:pre;overflow-x:auto;line-height:normal;font-family:Menlo,'DejaVu Sans Mono',consolas,'Courier New',monospace\"><span style=\"color: #c0c0c0; text-decoration-color: #c0c0c0\">                                                                                </span>\n",
       "<span style=\"color: #c0c0c0; text-decoration-color: #c0c0c0\"> </span><span style=\"color: #800000; text-decoration-color: #800000\"> 22-11-1… </span><span style=\"color: #c0c0c0; text-decoration-color: #c0c0c0\"> </span><span style=\"color: #800000; text-decoration-color: #800000\">   2    </span><span style=\"color: #c0c0c0; text-decoration-color: #c0c0c0\"> </span><span style=\"color: #800000; text-decoration-color: #800000\">   2    </span><span style=\"color: #c0c0c0; text-decoration-color: #c0c0c0\"> </span>  1.7434   <span style=\"color: #c0c0c0; text-decoration-color: #c0c0c0\"> </span> 34.494 <span style=\"color: #c0c0c0; text-decoration-color: #c0c0c0\"> </span>  37.56  <span style=\"color: #c0c0c0; text-decoration-color: #c0c0c0\"> </span> 1.6762 <span style=\"color: #c0c0c0; text-decoration-color: #c0c0c0\"> </span> 0.0004  <span style=\"color: #c0c0c0; text-decoration-color: #c0c0c0\"> </span>\n",
       "<span style=\"color: #c0c0c0; text-decoration-color: #c0c0c0\">                                                                                </span>\n",
       "</pre>\n"
      ],
      "text/plain": [
       "\u001b[37m                                                                                \u001b[0m\n",
       "\u001b[37m \u001b[0m\u001b[31m \u001b[0m\u001b[31m22-11-1…\u001b[0m\u001b[31m \u001b[0m\u001b[37m \u001b[0m\u001b[31m \u001b[0m\u001b[31m  2   \u001b[0m\u001b[31m \u001b[0m\u001b[37m \u001b[0m\u001b[31m \u001b[0m\u001b[31m  2   \u001b[0m\u001b[31m \u001b[0m\u001b[37m \u001b[0m  1.7434   \u001b[37m \u001b[0m 34.494 \u001b[37m \u001b[0m  37.56  \u001b[37m \u001b[0m 1.6762 \u001b[37m \u001b[0m 0.0004  \u001b[37m \u001b[0m\n",
       "\u001b[37m                                                                                \u001b[0m\n"
      ]
     },
     "metadata": {},
     "output_type": "display_data"
    },
    {
     "data": {
      "text/html": [
       "<pre style=\"white-space:pre;overflow-x:auto;line-height:normal;font-family:Menlo,'DejaVu Sans Mono',consolas,'Courier New',monospace\"><span style=\"color: #c0c0c0; text-decoration-color: #c0c0c0\">                                                                                </span>\n",
       "<span style=\"color: #c0c0c0; text-decoration-color: #c0c0c0\"> </span><span style=\"color: #800000; text-decoration-color: #800000\"> 📩 - Every-K </span><span style=\"color: #c0c0c0; text-decoration-color: #c0c0c0\"> </span><span style=\"color: #800000; text-decoration-color: #800000\"> test_all_stuff/models/every_k/every_k_seed_1234_k_3.pt        </span><span style=\"color: #c0c0c0; text-decoration-color: #c0c0c0\"> </span>\n",
       "<span style=\"color: #c0c0c0; text-decoration-color: #c0c0c0\">                                                                                </span>\n",
       "</pre>\n"
      ],
      "text/plain": [
       "\u001b[37m                                                                                \u001b[0m\n",
       "\u001b[37m \u001b[0m\u001b[31m \u001b[0m\u001b[31m📩 - Every-K\u001b[0m\u001b[31m \u001b[0m\u001b[37m \u001b[0m\u001b[31m \u001b[0m\u001b[31mtest_all_stuff/models/every_k/every_k_seed_1234_k_3.pt       \u001b[0m\u001b[31m \u001b[0m\u001b[37m \u001b[0m\n",
       "\u001b[37m                                                                                \u001b[0m\n"
      ]
     },
     "metadata": {},
     "output_type": "display_data"
    },
    {
     "data": {
      "text/html": [
       "<pre style=\"white-space:pre;overflow-x:auto;line-height:normal;font-family:Menlo,'DejaVu Sans Mono',consolas,'Courier New',monospace\"><span style=\"color: #c0c0c0; text-decoration-color: #c0c0c0\">                                                                                </span>\n",
       "<span style=\"color: #c0c0c0; text-decoration-color: #c0c0c0\"> </span><span style=\"color: #800000; text-decoration-color: #800000\"> 22-11-1… </span><span style=\"color: #c0c0c0; text-decoration-color: #c0c0c0\"> </span><span style=\"color: #800000; text-decoration-color: #800000\">   3    </span><span style=\"color: #c0c0c0; text-decoration-color: #c0c0c0\"> </span><span style=\"color: #800000; text-decoration-color: #800000\">   3    </span><span style=\"color: #c0c0c0; text-decoration-color: #c0c0c0\"> </span>  1.6517   <span style=\"color: #c0c0c0; text-decoration-color: #c0c0c0\"> </span> 38.91  <span style=\"color: #c0c0c0; text-decoration-color: #c0c0c0\"> </span>  41.25  <span style=\"color: #c0c0c0; text-decoration-color: #c0c0c0\"> </span> 1.594  <span style=\"color: #c0c0c0; text-decoration-color: #c0c0c0\"> </span> 0.0004  <span style=\"color: #c0c0c0; text-decoration-color: #c0c0c0\"> </span>\n",
       "<span style=\"color: #c0c0c0; text-decoration-color: #c0c0c0\">                                                                                </span>\n",
       "</pre>\n"
      ],
      "text/plain": [
       "\u001b[37m                                                                                \u001b[0m\n",
       "\u001b[37m \u001b[0m\u001b[31m \u001b[0m\u001b[31m22-11-1…\u001b[0m\u001b[31m \u001b[0m\u001b[37m \u001b[0m\u001b[31m \u001b[0m\u001b[31m  3   \u001b[0m\u001b[31m \u001b[0m\u001b[37m \u001b[0m\u001b[31m \u001b[0m\u001b[31m  3   \u001b[0m\u001b[31m \u001b[0m\u001b[37m \u001b[0m  1.6517   \u001b[37m \u001b[0m 38.91  \u001b[37m \u001b[0m  41.25  \u001b[37m \u001b[0m 1.594  \u001b[37m \u001b[0m 0.0004  \u001b[37m \u001b[0m\n",
       "\u001b[37m                                                                                \u001b[0m\n"
      ]
     },
     "metadata": {},
     "output_type": "display_data"
    },
    {
     "data": {
      "text/html": [
       "<pre style=\"white-space:pre;overflow-x:auto;line-height:normal;font-family:Menlo,'DejaVu Sans Mono',consolas,'Courier New',monospace\"><span style=\"color: #c0c0c0; text-decoration-color: #c0c0c0\">                                                                                </span>\n",
       "<span style=\"color: #c0c0c0; text-decoration-color: #c0c0c0\"> </span><span style=\"color: #800000; text-decoration-color: #800000\"> 📩 - Every-K </span><span style=\"color: #c0c0c0; text-decoration-color: #c0c0c0\"> </span><span style=\"color: #800000; text-decoration-color: #800000\"> test_all_stuff/models/every_k/every_k_seed_1234_k_4.pt        </span><span style=\"color: #c0c0c0; text-decoration-color: #c0c0c0\"> </span>\n",
       "<span style=\"color: #c0c0c0; text-decoration-color: #c0c0c0\">                                                                                </span>\n",
       "</pre>\n"
      ],
      "text/plain": [
       "\u001b[37m                                                                                \u001b[0m\n",
       "\u001b[37m \u001b[0m\u001b[31m \u001b[0m\u001b[31m📩 - Every-K\u001b[0m\u001b[31m \u001b[0m\u001b[37m \u001b[0m\u001b[31m \u001b[0m\u001b[31mtest_all_stuff/models/every_k/every_k_seed_1234_k_4.pt       \u001b[0m\u001b[31m \u001b[0m\u001b[37m \u001b[0m\n",
       "\u001b[37m                                                                                \u001b[0m\n"
      ]
     },
     "metadata": {},
     "output_type": "display_data"
    },
    {
     "data": {
      "text/html": [
       "<pre style=\"white-space:pre;overflow-x:auto;line-height:normal;font-family:Menlo,'DejaVu Sans Mono',consolas,'Courier New',monospace\"><span style=\"color: #c0c0c0; text-decoration-color: #c0c0c0\">                                                                                </span>\n",
       "<span style=\"color: #c0c0c0; text-decoration-color: #c0c0c0\"> </span><span style=\"color: #800000; text-decoration-color: #800000\"> 22-11-1… </span><span style=\"color: #c0c0c0; text-decoration-color: #c0c0c0\"> </span><span style=\"color: #800000; text-decoration-color: #800000\">   4    </span><span style=\"color: #c0c0c0; text-decoration-color: #c0c0c0\"> </span><span style=\"color: #800000; text-decoration-color: #800000\">   4    </span><span style=\"color: #c0c0c0; text-decoration-color: #c0c0c0\"> </span>  1.5814   <span style=\"color: #c0c0c0; text-decoration-color: #c0c0c0\"> </span> 41.95  <span style=\"color: #c0c0c0; text-decoration-color: #c0c0c0\"> </span>  43.11  <span style=\"color: #c0c0c0; text-decoration-color: #c0c0c0\"> </span> 1.5497 <span style=\"color: #c0c0c0; text-decoration-color: #c0c0c0\"> </span> 0.0004  <span style=\"color: #c0c0c0; text-decoration-color: #c0c0c0\"> </span>\n",
       "<span style=\"color: #c0c0c0; text-decoration-color: #c0c0c0\">                                                                                </span>\n",
       "</pre>\n"
      ],
      "text/plain": [
       "\u001b[37m                                                                                \u001b[0m\n",
       "\u001b[37m \u001b[0m\u001b[31m \u001b[0m\u001b[31m22-11-1…\u001b[0m\u001b[31m \u001b[0m\u001b[37m \u001b[0m\u001b[31m \u001b[0m\u001b[31m  4   \u001b[0m\u001b[31m \u001b[0m\u001b[37m \u001b[0m\u001b[31m \u001b[0m\u001b[31m  4   \u001b[0m\u001b[31m \u001b[0m\u001b[37m \u001b[0m  1.5814   \u001b[37m \u001b[0m 41.95  \u001b[37m \u001b[0m  43.11  \u001b[37m \u001b[0m 1.5497 \u001b[37m \u001b[0m 0.0004  \u001b[37m \u001b[0m\n",
       "\u001b[37m                                                                                \u001b[0m\n"
      ]
     },
     "metadata": {},
     "output_type": "display_data"
    },
    {
     "data": {
      "text/html": [
       "<pre style=\"white-space:pre;overflow-x:auto;line-height:normal;font-family:Menlo,'DejaVu Sans Mono',consolas,'Courier New',monospace\"><span style=\"color: #c0c0c0; text-decoration-color: #c0c0c0\">                                                                                </span>\n",
       "<span style=\"color: #c0c0c0; text-decoration-color: #c0c0c0\"> </span><span style=\"color: #800000; text-decoration-color: #800000\"> 📩 - Every-K </span><span style=\"color: #c0c0c0; text-decoration-color: #c0c0c0\"> </span><span style=\"color: #800000; text-decoration-color: #800000\"> test_all_stuff/models/every_k/every_k_seed_1234_k_5.pt        </span><span style=\"color: #c0c0c0; text-decoration-color: #c0c0c0\"> </span>\n",
       "<span style=\"color: #c0c0c0; text-decoration-color: #c0c0c0\">                                                                                </span>\n",
       "</pre>\n"
      ],
      "text/plain": [
       "\u001b[37m                                                                                \u001b[0m\n",
       "\u001b[37m \u001b[0m\u001b[31m \u001b[0m\u001b[31m📩 - Every-K\u001b[0m\u001b[31m \u001b[0m\u001b[37m \u001b[0m\u001b[31m \u001b[0m\u001b[31mtest_all_stuff/models/every_k/every_k_seed_1234_k_5.pt       \u001b[0m\u001b[31m \u001b[0m\u001b[37m \u001b[0m\n",
       "\u001b[37m                                                                                \u001b[0m\n"
      ]
     },
     "metadata": {},
     "output_type": "display_data"
    },
    {
     "data": {
      "text/html": [
       "<pre style=\"white-space:pre;overflow-x:auto;line-height:normal;font-family:Menlo,'DejaVu Sans Mono',consolas,'Courier New',monospace\"><span style=\"color: #c0c0c0; text-decoration-color: #c0c0c0\">                                                                                </span>\n",
       "<span style=\"color: #c0c0c0; text-decoration-color: #c0c0c0\"> </span><span style=\"color: #800000; text-decoration-color: #800000\"> 22-11-1… </span><span style=\"color: #c0c0c0; text-decoration-color: #c0c0c0\"> </span><span style=\"color: #800000; text-decoration-color: #800000\">   5    </span><span style=\"color: #c0c0c0; text-decoration-color: #c0c0c0\"> </span><span style=\"color: #800000; text-decoration-color: #800000\">   5    </span><span style=\"color: #c0c0c0; text-decoration-color: #c0c0c0\"> </span>  1.5359   <span style=\"color: #c0c0c0; text-decoration-color: #c0c0c0\"> </span> 43.874 <span style=\"color: #c0c0c0; text-decoration-color: #c0c0c0\"> </span>  44.91  <span style=\"color: #c0c0c0; text-decoration-color: #c0c0c0\"> </span> 1.5012 <span style=\"color: #c0c0c0; text-decoration-color: #c0c0c0\"> </span> 0.0004  <span style=\"color: #c0c0c0; text-decoration-color: #c0c0c0\"> </span>\n",
       "<span style=\"color: #c0c0c0; text-decoration-color: #c0c0c0\">                                                                                </span>\n",
       "</pre>\n"
      ],
      "text/plain": [
       "\u001b[37m                                                                                \u001b[0m\n",
       "\u001b[37m \u001b[0m\u001b[31m \u001b[0m\u001b[31m22-11-1…\u001b[0m\u001b[31m \u001b[0m\u001b[37m \u001b[0m\u001b[31m \u001b[0m\u001b[31m  5   \u001b[0m\u001b[31m \u001b[0m\u001b[37m \u001b[0m\u001b[31m \u001b[0m\u001b[31m  5   \u001b[0m\u001b[31m \u001b[0m\u001b[37m \u001b[0m  1.5359   \u001b[37m \u001b[0m 43.874 \u001b[37m \u001b[0m  44.91  \u001b[37m \u001b[0m 1.5012 \u001b[37m \u001b[0m 0.0004  \u001b[37m \u001b[0m\n",
       "\u001b[37m                                                                                \u001b[0m\n"
      ]
     },
     "metadata": {},
     "output_type": "display_data"
    },
    {
     "data": {
      "text/html": [
       "<pre style=\"white-space:pre;overflow-x:auto;line-height:normal;font-family:Menlo,'DejaVu Sans Mono',consolas,'Courier New',monospace\"><span style=\"color: #c0c0c0; text-decoration-color: #c0c0c0\">                                                                                </span>\n",
       "<span style=\"color: #c0c0c0; text-decoration-color: #c0c0c0\"> </span><span style=\"color: #800000; text-decoration-color: #800000\"> 📩 - Every-K </span><span style=\"color: #c0c0c0; text-decoration-color: #c0c0c0\"> </span><span style=\"color: #800000; text-decoration-color: #800000\"> test_all_stuff/models/every_k/every_k_seed_1234_k_6.pt        </span><span style=\"color: #c0c0c0; text-decoration-color: #c0c0c0\"> </span>\n",
       "<span style=\"color: #c0c0c0; text-decoration-color: #c0c0c0\">                                                                                </span>\n",
       "</pre>\n"
      ],
      "text/plain": [
       "\u001b[37m                                                                                \u001b[0m\n",
       "\u001b[37m \u001b[0m\u001b[31m \u001b[0m\u001b[31m📩 - Every-K\u001b[0m\u001b[31m \u001b[0m\u001b[37m \u001b[0m\u001b[31m \u001b[0m\u001b[31mtest_all_stuff/models/every_k/every_k_seed_1234_k_6.pt       \u001b[0m\u001b[31m \u001b[0m\u001b[37m \u001b[0m\n",
       "\u001b[37m                                                                                \u001b[0m\n"
      ]
     },
     "metadata": {},
     "output_type": "display_data"
    },
    {
     "data": {
      "text/html": [
       "<pre style=\"white-space:pre;overflow-x:auto;line-height:normal;font-family:Menlo,'DejaVu Sans Mono',consolas,'Courier New',monospace\"><span style=\"color: #c0c0c0; text-decoration-color: #c0c0c0\">                                                                                </span>\n",
       "<span style=\"color: #c0c0c0; text-decoration-color: #c0c0c0\"> </span><span style=\"color: #800000; text-decoration-color: #800000\"> 22-11-1… </span><span style=\"color: #c0c0c0; text-decoration-color: #c0c0c0\"> </span><span style=\"color: #800000; text-decoration-color: #800000\">   6    </span><span style=\"color: #c0c0c0; text-decoration-color: #c0c0c0\"> </span><span style=\"color: #800000; text-decoration-color: #800000\">   6    </span><span style=\"color: #c0c0c0; text-decoration-color: #c0c0c0\"> </span>  1.4937   <span style=\"color: #c0c0c0; text-decoration-color: #c0c0c0\"> </span> 45.752 <span style=\"color: #c0c0c0; text-decoration-color: #c0c0c0\"> </span>  47.05  <span style=\"color: #c0c0c0; text-decoration-color: #c0c0c0\"> </span> 1.4664 <span style=\"color: #c0c0c0; text-decoration-color: #c0c0c0\"> </span> 0.0004  <span style=\"color: #c0c0c0; text-decoration-color: #c0c0c0\"> </span>\n",
       "<span style=\"color: #c0c0c0; text-decoration-color: #c0c0c0\">                                                                                </span>\n",
       "</pre>\n"
      ],
      "text/plain": [
       "\u001b[37m                                                                                \u001b[0m\n",
       "\u001b[37m \u001b[0m\u001b[31m \u001b[0m\u001b[31m22-11-1…\u001b[0m\u001b[31m \u001b[0m\u001b[37m \u001b[0m\u001b[31m \u001b[0m\u001b[31m  6   \u001b[0m\u001b[31m \u001b[0m\u001b[37m \u001b[0m\u001b[31m \u001b[0m\u001b[31m  6   \u001b[0m\u001b[31m \u001b[0m\u001b[37m \u001b[0m  1.4937   \u001b[37m \u001b[0m 45.752 \u001b[37m \u001b[0m  47.05  \u001b[37m \u001b[0m 1.4664 \u001b[37m \u001b[0m 0.0004  \u001b[37m \u001b[0m\n",
       "\u001b[37m                                                                                \u001b[0m\n"
      ]
     },
     "metadata": {},
     "output_type": "display_data"
    },
    {
     "data": {
      "text/html": [
       "<pre style=\"white-space:pre;overflow-x:auto;line-height:normal;font-family:Menlo,'DejaVu Sans Mono',consolas,'Courier New',monospace\"><span style=\"color: #c0c0c0; text-decoration-color: #c0c0c0\">                                                                                </span>\n",
       "<span style=\"color: #c0c0c0; text-decoration-color: #c0c0c0\"> </span><span style=\"color: #800000; text-decoration-color: #800000\"> 📩 - Every-K </span><span style=\"color: #c0c0c0; text-decoration-color: #c0c0c0\"> </span><span style=\"color: #800000; text-decoration-color: #800000\"> test_all_stuff/models/every_k/every_k_seed_1234_k_7.pt        </span><span style=\"color: #c0c0c0; text-decoration-color: #c0c0c0\"> </span>\n",
       "<span style=\"color: #c0c0c0; text-decoration-color: #c0c0c0\">                                                                                </span>\n",
       "</pre>\n"
      ],
      "text/plain": [
       "\u001b[37m                                                                                \u001b[0m\n",
       "\u001b[37m \u001b[0m\u001b[31m \u001b[0m\u001b[31m📩 - Every-K\u001b[0m\u001b[31m \u001b[0m\u001b[37m \u001b[0m\u001b[31m \u001b[0m\u001b[31mtest_all_stuff/models/every_k/every_k_seed_1234_k_7.pt       \u001b[0m\u001b[31m \u001b[0m\u001b[37m \u001b[0m\n",
       "\u001b[37m                                                                                \u001b[0m\n"
      ]
     },
     "metadata": {},
     "output_type": "display_data"
    },
    {
     "data": {
      "text/html": [
       "<pre style=\"white-space:pre;overflow-x:auto;line-height:normal;font-family:Menlo,'DejaVu Sans Mono',consolas,'Courier New',monospace\"><span style=\"color: #c0c0c0; text-decoration-color: #c0c0c0\">                                                                                </span>\n",
       "<span style=\"color: #c0c0c0; text-decoration-color: #c0c0c0\"> </span><span style=\"color: #800000; text-decoration-color: #800000\"> 22-11-1… </span><span style=\"color: #c0c0c0; text-decoration-color: #c0c0c0\"> </span><span style=\"color: #800000; text-decoration-color: #800000\">   7    </span><span style=\"color: #c0c0c0; text-decoration-color: #c0c0c0\"> </span><span style=\"color: #800000; text-decoration-color: #800000\">   7    </span><span style=\"color: #c0c0c0; text-decoration-color: #c0c0c0\"> </span>   1.453   <span style=\"color: #c0c0c0; text-decoration-color: #c0c0c0\"> </span> 47.32  <span style=\"color: #c0c0c0; text-decoration-color: #c0c0c0\"> </span>  45.67  <span style=\"color: #c0c0c0; text-decoration-color: #c0c0c0\"> </span> 1.4838 <span style=\"color: #c0c0c0; text-decoration-color: #c0c0c0\"> </span> 0.0004  <span style=\"color: #c0c0c0; text-decoration-color: #c0c0c0\"> </span>\n",
       "<span style=\"color: #c0c0c0; text-decoration-color: #c0c0c0\">                                                                                </span>\n",
       "</pre>\n"
      ],
      "text/plain": [
       "\u001b[37m                                                                                \u001b[0m\n",
       "\u001b[37m \u001b[0m\u001b[31m \u001b[0m\u001b[31m22-11-1…\u001b[0m\u001b[31m \u001b[0m\u001b[37m \u001b[0m\u001b[31m \u001b[0m\u001b[31m  7   \u001b[0m\u001b[31m \u001b[0m\u001b[37m \u001b[0m\u001b[31m \u001b[0m\u001b[31m  7   \u001b[0m\u001b[31m \u001b[0m\u001b[37m \u001b[0m   1.453   \u001b[37m \u001b[0m 47.32  \u001b[37m \u001b[0m  45.67  \u001b[37m \u001b[0m 1.4838 \u001b[37m \u001b[0m 0.0004  \u001b[37m \u001b[0m\n",
       "\u001b[37m                                                                                \u001b[0m\n"
      ]
     },
     "metadata": {},
     "output_type": "display_data"
    },
    {
     "data": {
      "text/html": [
       "<pre style=\"white-space:pre;overflow-x:auto;line-height:normal;font-family:Menlo,'DejaVu Sans Mono',consolas,'Courier New',monospace\"><span style=\"color: #c0c0c0; text-decoration-color: #c0c0c0\">                                                                                </span>\n",
       "<span style=\"color: #c0c0c0; text-decoration-color: #c0c0c0\"> </span><span style=\"color: #800000; text-decoration-color: #800000\"> 📩 - Every-K </span><span style=\"color: #c0c0c0; text-decoration-color: #c0c0c0\"> </span><span style=\"color: #800000; text-decoration-color: #800000\"> test_all_stuff/models/every_k/every_k_seed_1234_k_8.pt        </span><span style=\"color: #c0c0c0; text-decoration-color: #c0c0c0\"> </span>\n",
       "<span style=\"color: #c0c0c0; text-decoration-color: #c0c0c0\">                                                                                </span>\n",
       "</pre>\n"
      ],
      "text/plain": [
       "\u001b[37m                                                                                \u001b[0m\n",
       "\u001b[37m \u001b[0m\u001b[31m \u001b[0m\u001b[31m📩 - Every-K\u001b[0m\u001b[31m \u001b[0m\u001b[37m \u001b[0m\u001b[31m \u001b[0m\u001b[31mtest_all_stuff/models/every_k/every_k_seed_1234_k_8.pt       \u001b[0m\u001b[31m \u001b[0m\u001b[37m \u001b[0m\n",
       "\u001b[37m                                                                                \u001b[0m\n"
      ]
     },
     "metadata": {},
     "output_type": "display_data"
    },
    {
     "data": {
      "text/html": [
       "<pre style=\"white-space:pre;overflow-x:auto;line-height:normal;font-family:Menlo,'DejaVu Sans Mono',consolas,'Courier New',monospace\"><span style=\"color: #c0c0c0; text-decoration-color: #c0c0c0\">                                                                                </span>\n",
       "<span style=\"color: #c0c0c0; text-decoration-color: #c0c0c0\"> </span><span style=\"color: #800000; text-decoration-color: #800000\"> 22-11-1… </span><span style=\"color: #c0c0c0; text-decoration-color: #c0c0c0\"> </span><span style=\"color: #800000; text-decoration-color: #800000\">   8    </span><span style=\"color: #c0c0c0; text-decoration-color: #c0c0c0\"> </span><span style=\"color: #800000; text-decoration-color: #800000\">   8    </span><span style=\"color: #c0c0c0; text-decoration-color: #c0c0c0\"> </span>  1.4246   <span style=\"color: #c0c0c0; text-decoration-color: #c0c0c0\"> </span> 48.652 <span style=\"color: #c0c0c0; text-decoration-color: #c0c0c0\"> </span>  49.5   <span style=\"color: #c0c0c0; text-decoration-color: #c0c0c0\"> </span> 1.4006 <span style=\"color: #c0c0c0; text-decoration-color: #c0c0c0\"> </span> 0.0004  <span style=\"color: #c0c0c0; text-decoration-color: #c0c0c0\"> </span>\n",
       "<span style=\"color: #c0c0c0; text-decoration-color: #c0c0c0\">                                                                                </span>\n",
       "</pre>\n"
      ],
      "text/plain": [
       "\u001b[37m                                                                                \u001b[0m\n",
       "\u001b[37m \u001b[0m\u001b[31m \u001b[0m\u001b[31m22-11-1…\u001b[0m\u001b[31m \u001b[0m\u001b[37m \u001b[0m\u001b[31m \u001b[0m\u001b[31m  8   \u001b[0m\u001b[31m \u001b[0m\u001b[37m \u001b[0m\u001b[31m \u001b[0m\u001b[31m  8   \u001b[0m\u001b[31m \u001b[0m\u001b[37m \u001b[0m  1.4246   \u001b[37m \u001b[0m 48.652 \u001b[37m \u001b[0m  49.5   \u001b[37m \u001b[0m 1.4006 \u001b[37m \u001b[0m 0.0004  \u001b[37m \u001b[0m\n",
       "\u001b[37m                                                                                \u001b[0m\n"
      ]
     },
     "metadata": {},
     "output_type": "display_data"
    },
    {
     "data": {
      "text/html": [
       "<pre style=\"white-space:pre;overflow-x:auto;line-height:normal;font-family:Menlo,'DejaVu Sans Mono',consolas,'Courier New',monospace\"><span style=\"color: #c0c0c0; text-decoration-color: #c0c0c0\">                                                                                </span>\n",
       "<span style=\"color: #c0c0c0; text-decoration-color: #c0c0c0\"> </span><span style=\"color: #800000; text-decoration-color: #800000\"> 📩 - Every-K </span><span style=\"color: #c0c0c0; text-decoration-color: #c0c0c0\"> </span><span style=\"color: #800000; text-decoration-color: #800000\"> test_all_stuff/models/every_k/every_k_seed_1234_k_9.pt        </span><span style=\"color: #c0c0c0; text-decoration-color: #c0c0c0\"> </span>\n",
       "<span style=\"color: #c0c0c0; text-decoration-color: #c0c0c0\">                                                                                </span>\n",
       "</pre>\n"
      ],
      "text/plain": [
       "\u001b[37m                                                                                \u001b[0m\n",
       "\u001b[37m \u001b[0m\u001b[31m \u001b[0m\u001b[31m📩 - Every-K\u001b[0m\u001b[31m \u001b[0m\u001b[37m \u001b[0m\u001b[31m \u001b[0m\u001b[31mtest_all_stuff/models/every_k/every_k_seed_1234_k_9.pt       \u001b[0m\u001b[31m \u001b[0m\u001b[37m \u001b[0m\n",
       "\u001b[37m                                                                                \u001b[0m\n"
      ]
     },
     "metadata": {},
     "output_type": "display_data"
    },
    {
     "data": {
      "text/html": [
       "<pre style=\"white-space:pre;overflow-x:auto;line-height:normal;font-family:Menlo,'DejaVu Sans Mono',consolas,'Courier New',monospace\"><span style=\"color: #c0c0c0; text-decoration-color: #c0c0c0\">                                                                                </span>\n",
       "<span style=\"color: #c0c0c0; text-decoration-color: #c0c0c0\"> </span><span style=\"color: #800000; text-decoration-color: #800000\"> 22-11-1… </span><span style=\"color: #c0c0c0; text-decoration-color: #c0c0c0\"> </span><span style=\"color: #800000; text-decoration-color: #800000\">   9    </span><span style=\"color: #c0c0c0; text-decoration-color: #c0c0c0\"> </span><span style=\"color: #800000; text-decoration-color: #800000\">   9    </span><span style=\"color: #c0c0c0; text-decoration-color: #c0c0c0\"> </span>  1.3969   <span style=\"color: #c0c0c0; text-decoration-color: #c0c0c0\"> </span> 49.474 <span style=\"color: #c0c0c0; text-decoration-color: #c0c0c0\"> </span>  49.95  <span style=\"color: #c0c0c0; text-decoration-color: #c0c0c0\"> </span> 1.3782 <span style=\"color: #c0c0c0; text-decoration-color: #c0c0c0\"> </span> 0.0004  <span style=\"color: #c0c0c0; text-decoration-color: #c0c0c0\"> </span>\n",
       "<span style=\"color: #c0c0c0; text-decoration-color: #c0c0c0\">                                                                                </span>\n",
       "</pre>\n"
      ],
      "text/plain": [
       "\u001b[37m                                                                                \u001b[0m\n",
       "\u001b[37m \u001b[0m\u001b[31m \u001b[0m\u001b[31m22-11-1…\u001b[0m\u001b[31m \u001b[0m\u001b[37m \u001b[0m\u001b[31m \u001b[0m\u001b[31m  9   \u001b[0m\u001b[31m \u001b[0m\u001b[37m \u001b[0m\u001b[31m \u001b[0m\u001b[31m  9   \u001b[0m\u001b[31m \u001b[0m\u001b[37m \u001b[0m  1.3969   \u001b[37m \u001b[0m 49.474 \u001b[37m \u001b[0m  49.95  \u001b[37m \u001b[0m 1.3782 \u001b[37m \u001b[0m 0.0004  \u001b[37m \u001b[0m\n",
       "\u001b[37m                                                                                \u001b[0m\n"
      ]
     },
     "metadata": {},
     "output_type": "display_data"
    },
    {
     "data": {
      "text/html": [
       "<pre style=\"white-space:pre;overflow-x:auto;line-height:normal;font-family:Menlo,'DejaVu Sans Mono',consolas,'Courier New',monospace\"><span style=\"color: #c0c0c0; text-decoration-color: #c0c0c0\">                                                                                </span>\n",
       "<span style=\"color: #c0c0c0; text-decoration-color: #c0c0c0\"> </span><span style=\"color: #800000; text-decoration-color: #800000\"> 📩 - Every-K </span><span style=\"color: #c0c0c0; text-decoration-color: #c0c0c0\"> </span><span style=\"color: #800000; text-decoration-color: #800000\"> test_all_stuff/models/every_k/every_k_seed_1234_k_10.pt       </span><span style=\"color: #c0c0c0; text-decoration-color: #c0c0c0\"> </span>\n",
       "<span style=\"color: #c0c0c0; text-decoration-color: #c0c0c0\">                                                                                </span>\n",
       "</pre>\n"
      ],
      "text/plain": [
       "\u001b[37m                                                                                \u001b[0m\n",
       "\u001b[37m \u001b[0m\u001b[31m \u001b[0m\u001b[31m📩 - Every-K\u001b[0m\u001b[31m \u001b[0m\u001b[37m \u001b[0m\u001b[31m \u001b[0m\u001b[31mtest_all_stuff/models/every_k/every_k_seed_1234_k_10.pt      \u001b[0m\u001b[31m \u001b[0m\u001b[37m \u001b[0m\n",
       "\u001b[37m                                                                                \u001b[0m\n"
      ]
     },
     "metadata": {},
     "output_type": "display_data"
    },
    {
     "data": {
      "text/html": [
       "<pre style=\"white-space:pre;overflow-x:auto;line-height:normal;font-family:Menlo,'DejaVu Sans Mono',consolas,'Courier New',monospace\"><span style=\"color: #c0c0c0; text-decoration-color: #c0c0c0\">                                                                                </span>\n",
       "<span style=\"color: #c0c0c0; text-decoration-color: #c0c0c0\"> </span><span style=\"color: #800000; text-decoration-color: #800000\"> 22-11-1… </span><span style=\"color: #c0c0c0; text-decoration-color: #c0c0c0\"> </span><span style=\"color: #800000; text-decoration-color: #800000\">   10   </span><span style=\"color: #c0c0c0; text-decoration-color: #c0c0c0\"> </span><span style=\"color: #800000; text-decoration-color: #800000\">   10   </span><span style=\"color: #c0c0c0; text-decoration-color: #c0c0c0\"> </span>  1.3741   <span style=\"color: #c0c0c0; text-decoration-color: #c0c0c0\"> </span> 50.612 <span style=\"color: #c0c0c0; text-decoration-color: #c0c0c0\"> </span>  50.91  <span style=\"color: #c0c0c0; text-decoration-color: #c0c0c0\"> </span> 1.3618 <span style=\"color: #c0c0c0; text-decoration-color: #c0c0c0\"> </span> 0.0004  <span style=\"color: #c0c0c0; text-decoration-color: #c0c0c0\"> </span>\n",
       "<span style=\"color: #c0c0c0; text-decoration-color: #c0c0c0\">                                                                                </span>\n",
       "</pre>\n"
      ],
      "text/plain": [
       "\u001b[37m                                                                                \u001b[0m\n",
       "\u001b[37m \u001b[0m\u001b[31m \u001b[0m\u001b[31m22-11-1…\u001b[0m\u001b[31m \u001b[0m\u001b[37m \u001b[0m\u001b[31m \u001b[0m\u001b[31m  10  \u001b[0m\u001b[31m \u001b[0m\u001b[37m \u001b[0m\u001b[31m \u001b[0m\u001b[31m  10  \u001b[0m\u001b[31m \u001b[0m\u001b[37m \u001b[0m  1.3741   \u001b[37m \u001b[0m 50.612 \u001b[37m \u001b[0m  50.91  \u001b[37m \u001b[0m 1.3618 \u001b[37m \u001b[0m 0.0004  \u001b[37m \u001b[0m\n",
       "\u001b[37m                                                                                \u001b[0m\n"
      ]
     },
     "metadata": {},
     "output_type": "display_data"
    }
   ],
   "source": [
    "train_params = {}\n",
    "train_params['epochs'] = 10\n",
    "train_params['batch_size'] = 128\n",
    "train_params['bn'] = False\n",
    "train_params['is_deterministic'] = True\n",
    "train_params['protected_classes'] = [2, 3]\n",
    "train_params['num_model'] = 4\n",
    "\n",
    "for i in range(train_params['num_model']):\n",
    "  train_experiment(train_params, i)"
   ]
  },
  {
   "cell_type": "code",
   "execution_count": 72,
   "metadata": {},
   "outputs": [
    {
     "data": {
      "image/png": "[encoded data removed]",
      "text/plain": [
       "<Figure size 648x432 with 1 Axes>"
      ]
     },
     "metadata": {
      "image/png": {
       "height": 424,
       "width": 639
      },
      "needs_background": "light"
     },
     "output_type": "display_data"
    }
   ],
   "source": [
    "fig, ax = log.plot(['train_loss', 'test_loss'], 'num_epochs')"
   ]
  },
  {
   "cell_type": "code",
   "execution_count": null,
   "metadata": {},
   "outputs": [],
   "source": [
    "weights = []\n",
    "for i in range(train_params['num_model']):\n",
    "  model = torch.load(f\"test_all_stuff_{i}/models/final/final_seed_1234.pt\")\n",
    "  weight = []\n",
    "  for layer in model:\n",
    "    if \"bias\" not in layer:\n",
    "      weight.extend(list(np.reshape(model[layer].cpu().detach().numpy(), -1)))\n",
    "  weights.append(weight)\n",
    "  cnt = 0\n",
    "accum = 0.0\n",
    "for i in range(train_params['num_model']):\n",
    "  for j in range(train_params['num_model']):\n",
    "    if j > i:\n",
    "      accum += np.linalg.norm(np.array(weights[i]) - np.array(weights[j]))\n",
    "      cnt += 1\n",
    "\n",
    "print(f\"L2 Norm: {accum / cnt}\")\n"
   ]
  },
  {
   "cell_type": "code",
   "execution_count": null,
   "metadata": {},
   "outputs": [],
   "source": [
    "from mle_logging import load_log\n",
    "acc = []\n",
    "for i in range(train_params['num_model']):\n",
    "  val_acc = load_log(f\"test_all_stuff_{i}/logs/log_seed_{experiment_seed}.hdf5\").stats.test_accuracy\n",
    "  acc.append(val_acc[-1])\n",
    "print(f\"STDDEV Accuracy : {np.std(acc)}\")"
   ]
  },
  {
   "cell_type": "code",
   "execution_count": null,
   "metadata": {},
   "outputs": [],
   "source": [
    "preds = []\n",
    "def get_churn(arr1, arr2):\n",
    "    assert arr1.shape == arr2.shape, 'Shape mismatch'\n",
    "    return np.sum(arr1 == arr2) / arr1.size\n",
    "for i in range(train_params['num_model']):\n",
    "  temp = np.array(np.load(f\"test_all_stuff_{i}/extra/predictions_epoch_{train_params['epochs']-1}.pkl\", allow_pickle=True))\n",
    "  preds.append(temp)\n",
    "\n",
    "\n",
    "churn_tot = 0.0\n",
    "cnt = 0\n",
    "for i in range(train_params['num_model']):\n",
    "  for j in range(train_params['num_model']):\n",
    "    if j > i:\n",
    "      cnt += 1\n",
    "      churn_tot += get_churn(preds[i], preds[j])\n",
    "\n",
    "print(f\"Churn: {churn_tot / cnt}\")"
   ]
  }
 ],
 "metadata": {
  "accelerator": "GPU",
  "colab": {
   "collapsed_sections": [],
   "provenance": []
  },
  "gpuClass": "standard",
  "kernelspec": {
   "display_name": "Python 3 (ipykernel)",
   "language": "python",
   "name": "python3"
  },
  "language_info": {
   "codemirror_mode": {
    "name": "ipython",
    "version": 3
   },
   "file_extension": ".py",
   "mimetype": "text/x-python",
   "name": "python",
   "nbconvert_exporter": "python",
   "pygments_lexer": "ipython3",
   "version": "3.7.13"
  }
 },
 "nbformat": 4,
 "nbformat_minor": 4
}
